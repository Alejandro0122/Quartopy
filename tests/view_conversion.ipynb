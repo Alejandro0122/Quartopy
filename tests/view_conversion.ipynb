{
 "cells": [
  {
   "cell_type": "markdown",
   "id": "d25da071",
   "metadata": {},
   "source": [
    "# Test for `AI`\n",
    "This notebook tests the `conversions` to AI"
   ]
  },
  {
   "cell_type": "code",
   "execution_count": 16,
   "id": "47e04ee0",
   "metadata": {},
   "outputs": [
    {
     "name": "stdout",
     "output_type": "stream",
     "text": [
      "The autoreload extension is already loaded. To reload it, use:\n",
      "  %reload_ext autoreload\n"
     ]
    }
   ],
   "source": [
    "%load_ext autoreload\n",
    "import os\n",
    "\n",
    "module_path = os.path.abspath(os.path.join(\"..\"))\n",
    "\n",
    "import sys\n",
    "from pathlib import Path\n",
    "\n",
    "sys.path.append(str(Path(\"..\").resolve()))"
   ]
  },
  {
   "cell_type": "code",
   "execution_count": 17,
   "id": "565d262e",
   "metadata": {},
   "outputs": [],
   "source": [
    "%autoreload 2\n",
    "from quartopy import Board, Piece, Coloration, Shape, Size, Hole"
   ]
  },
  {
   "cell_type": "markdown",
   "id": "d8ce4c79",
   "metadata": {},
   "source": []
  },
  {
   "cell_type": "code",
   "execution_count": 18,
   "id": "d3cf970c",
   "metadata": {},
   "outputs": [
    {
     "data": {
      "text/plain": [
       "Game Board:\n",
       "---- ---- ---- ---- \n",
       "---- ---- ---- ---- \n",
       "---- ---- ---- ---- \n",
       "---- ---- ---- ---- "
      ]
     },
     "execution_count": 18,
     "metadata": {},
     "output_type": "execute_result"
    }
   ],
   "source": [
    "board = Board(\"Game Board\", False, 4, 4)\n",
    "board"
   ]
  },
  {
   "cell_type": "code",
   "execution_count": 19,
   "id": "9f451b8c",
   "metadata": {},
   "outputs": [
    {
     "data": {
      "text/plain": [
       "TBQH"
      ]
     },
     "execution_count": 19,
     "metadata": {},
     "output_type": "execute_result"
    }
   ],
   "source": [
    "%autoreload 2\n",
    "from quartopy import Board, Piece, Coloration, Shape, Size, Hole\n",
    "p1 = Piece(1, 4, Size.TALL,  Coloration.BROWN, Shape.CIRCLE,Hole.WITHOUT)\n",
    "p1\n",
    "p2 = Piece(1, 4, Size.TALL,  Coloration.BEIGE, Shape.SQUARE,Hole.WITH)\n",
    "p2"
   ]
  },
  {
   "cell_type": "code",
   "execution_count": 20,
   "id": "601b3d43",
   "metadata": {},
   "outputs": [
    {
     "data": {
      "text/plain": [
       "Game Board:\n",
       "---- ---- ---- ---- \n",
       "---- TBQH TDCN ---- \n",
       "---- ---- ---- ---- \n",
       "---- ---- ---- ---- "
      ]
     },
     "execution_count": 20,
     "metadata": {},
     "output_type": "execute_result"
    }
   ],
   "source": [
    "board.put_piece(p1, 1, 2)\n",
    "board.put_piece(p2, 1, 1)\n",
    "board"
   ]
  },
  {
   "cell_type": "code",
   "execution_count": 21,
   "id": "dbffa046",
   "metadata": {},
   "outputs": [
    {
     "data": {
      "text/plain": [
       "Game Board2:\n",
       "---- ---- ---- ---- \n",
       "---- ---- ---- ---- \n",
       "---- ---- ---- ---- \n",
       "---- ---- TDCN ---- "
      ]
     },
     "execution_count": 21,
     "metadata": {},
     "output_type": "execute_result"
    }
   ],
   "source": [
    "b2 = Board(\"Game Board2\", False, 4, 4)\n",
    "b2.put_piece(p1, 3, 2)\n",
    "b2"
   ]
  },
  {
   "cell_type": "code",
   "execution_count": 22,
   "id": "ec1c07d4",
   "metadata": {},
   "outputs": [
    {
     "data": {
      "text/plain": [
       "array([[[[0., 0., 0., 0.],\n",
       "         [0., 0., 0., 0.],\n",
       "         [0., 0., 0., 0.],\n",
       "         [0., 0., 1., 0.]],\n",
       "\n",
       "        [[0., 0., 0., 0.],\n",
       "         [0., 0., 0., 0.],\n",
       "         [0., 0., 0., 0.],\n",
       "         [0., 0., 1., 0.]],\n",
       "\n",
       "        [[0., 0., 0., 0.],\n",
       "         [0., 0., 0., 0.],\n",
       "         [0., 0., 0., 0.],\n",
       "         [0., 0., 0., 0.]],\n",
       "\n",
       "        [[0., 0., 0., 0.],\n",
       "         [0., 0., 0., 0.],\n",
       "         [0., 0., 0., 0.],\n",
       "         [0., 0., 0., 0.]]]])"
      ]
     },
     "execution_count": 22,
     "metadata": {},
     "output_type": "execute_result"
    }
   ],
   "source": [
    "b2.to_matrix()"
   ]
  },
  {
   "cell_type": "code",
   "execution_count": 23,
   "id": "a2477ba9",
   "metadata": {},
   "outputs": [
    {
     "data": {
      "text/plain": [
       "array([[[[0., 0., 0., 0.],\n",
       "         [0., 1., 1., 0.],\n",
       "         [0., 0., 0., 0.],\n",
       "         [0., 0., 0., 0.]],\n",
       "\n",
       "        [[0., 0., 0., 0.],\n",
       "         [0., 0., 1., 0.],\n",
       "         [0., 0., 0., 0.],\n",
       "         [0., 0., 0., 0.]],\n",
       "\n",
       "        [[0., 0., 0., 0.],\n",
       "         [0., 1., 0., 0.],\n",
       "         [0., 0., 0., 0.],\n",
       "         [0., 0., 0., 0.]],\n",
       "\n",
       "        [[0., 0., 0., 0.],\n",
       "         [0., 1., 0., 0.],\n",
       "         [0., 0., 0., 0.],\n",
       "         [0., 0., 0., 0.]]],\n",
       "\n",
       "\n",
       "       [[[0., 0., 0., 0.],\n",
       "         [0., 0., 0., 0.],\n",
       "         [0., 0., 0., 0.],\n",
       "         [0., 0., 1., 0.]],\n",
       "\n",
       "        [[0., 0., 0., 0.],\n",
       "         [0., 0., 0., 0.],\n",
       "         [0., 0., 0., 0.],\n",
       "         [0., 0., 1., 0.]],\n",
       "\n",
       "        [[0., 0., 0., 0.],\n",
       "         [0., 0., 0., 0.],\n",
       "         [0., 0., 0., 0.],\n",
       "         [0., 0., 0., 0.]],\n",
       "\n",
       "        [[0., 0., 0., 0.],\n",
       "         [0., 0., 0., 0.],\n",
       "         [0., 0., 0., 0.],\n",
       "         [0., 0., 0., 0.]]]])"
      ]
     },
     "execution_count": 23,
     "metadata": {},
     "output_type": "execute_result"
    }
   ],
   "source": [
    "Board.to_matrix_batch([board, b2])"
   ]
  },
  {
   "cell_type": "code",
   "execution_count": 24,
   "id": "89639081",
   "metadata": {},
   "outputs": [
    {
     "name": "stdout",
     "output_type": "stream",
     "text": [
      "TBCH\n",
      "TBQH\n",
      "(2, 2, 2, 2)\n",
      "[[[[0. 0.]\n",
      "   [0. 0.]]\n",
      "\n",
      "  [[0. 0.]\n",
      "   [0. 0.]]]\n",
      "\n",
      "\n",
      " [[[0. 1.]\n",
      "   [0. 0.]]\n",
      "\n",
      "  [[0. 0.]\n",
      "   [0. 0.]]]]\n"
     ]
    },
    {
     "data": {
      "text/plain": [
       "array([0., 0., 0., 0., 0., 0., 0., 0., 0., 1., 0., 0., 0., 0., 0., 0.])"
      ]
     },
     "execution_count": 24,
     "metadata": {},
     "output_type": "execute_result"
    }
   ],
   "source": [
    "%autoreload 2\n",
    "from quartopy import Board, Piece, Coloration, Shape, Size, Hole\n",
    "p1 = Piece(1, 4, Size.TALL, Coloration.BEIGE, Shape.CIRCLE, Hole.WITH)\n",
    "print(p1)\n",
    "p2 = Piece(1, 4, Size.TALL, Coloration.BEIGE, Shape.SQUARE, Hole.WITH)\n",
    "print(p2)\n",
    "v = p1.vectorize_onehot()\n",
    "v"
   ]
  },
  {
   "cell_type": "code",
   "execution_count": 25,
   "id": "abfa37e5",
   "metadata": {},
   "outputs": [
    {
     "data": {
      "text/plain": [
       "array([[1., 0., 0., 1.]])"
      ]
     },
     "execution_count": 25,
     "metadata": {},
     "output_type": "execute_result"
    }
   ],
   "source": [
    "p1.vectorize()"
   ]
  },
  {
   "cell_type": "code",
   "execution_count": 26,
   "id": "68d443b0",
   "metadata": {},
   "outputs": [
    {
     "data": {
      "text/plain": [
       "array([0., 0., 0., 1., 0., 0., 0., 0., 0., 0., 0., 0., 0., 0., 0., 0.])"
      ]
     },
     "execution_count": 26,
     "metadata": {},
     "output_type": "execute_result"
    }
   ],
   "source": [
    "import numpy as np\n",
    "\n",
    "i = np.random.randint(0, 16)\n",
    "w = np.zeros(16)\n",
    "w[i] = 1\n",
    "w"
   ]
  },
  {
   "cell_type": "code",
   "execution_count": 28,
   "id": "416b1fe4",
   "metadata": {},
   "outputs": [
    {
     "name": "stdout",
     "output_type": "stream",
     "text": [
      "TDCN\n",
      "(2, 2, 2, 2)\n",
      "[[[[0. 0.]\n",
      "   [0. 0.]]\n",
      "\n",
      "  [[0. 0.]\n",
      "   [0. 0.]]]\n",
      "\n",
      "\n",
      " [[[0. 0.]\n",
      "   [0. 0.]]\n",
      "\n",
      "  [[1. 0.]\n",
      "   [0. 0.]]]]\n",
      "[0. 0. 0. 0. 0. 0. 0. 0. 0. 0. 0. 0. 1. 0. 0. 0.]\n",
      "TDCN\n",
      "0 SBCN\n",
      "1 SBCH\n",
      "2 SBQN\n",
      "3 SBQH\n",
      "4 SDCN\n",
      "5 SDCH\n",
      "6 SDQN\n",
      "7 SDQH\n",
      "8 TBCN\n",
      "9 TBCH\n",
      "10 TBQN\n",
      "11 TBQH\n",
      "12 TDCN\n",
      "13 TDCH\n",
      "14 TDQN\n",
      "15 TDQH\n"
     ]
    }
   ],
   "source": [
    "%autoreload 2\n",
    "from quartopy import Board, Piece, Coloration, Shape, Size, Hole\n",
    "p1 = Piece(1, 4, Size.TALL, Coloration.BROWN, Shape.CIRCLE, Hole.WITHOUT)\n",
    "print(p1)\n",
    "v = p1.vectorize_onehot()\n",
    "print(v)\n",
    "p = Piece.from_onehot(v, [1, 4])\n",
    "print(p)\n",
    "\n",
    "for i in range(16):\n",
    "    pi = Piece.from_index(i, 11)\n",
    "    print(i, pi)"
   ]
  }
 ],
 "metadata": {
  "kernelspec": {
   "display_name": "Python 3",
   "language": "python",
   "name": "python3"
  },
  "language_info": {
   "codemirror_mode": {
    "name": "ipython",
    "version": 3
   },
   "file_extension": ".py",
   "mimetype": "text/x-python",
   "name": "python",
   "nbconvert_exporter": "python",
   "pygments_lexer": "ipython3",
   "version": "3.10.11"
  }
 },
 "nbformat": 4,
 "nbformat_minor": 5
}
